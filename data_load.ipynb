{
 "cells": [
  {
   "cell_type": "code",
   "execution_count": null,
   "id": "28ad034d-d71b-4f3d-a0c7-75c2d6cf5b36",
   "metadata": {
    "tags": []
   },
   "outputs": [],
   "source": [
    "%load_ext autoreload\n",
    "%autoreload 2"
   ]
  },
  {
   "cell_type": "code",
   "execution_count": null,
   "id": "88025c46-a078-4d3f-b403-ca4cb6a189ca",
   "metadata": {
    "tags": [
     "parameters"
    ]
   },
   "outputs": [],
   "source": [
    "# specify substep parameters for interactive run\n",
    "# this cell will be replaced during job run with the parameters from json within params subfolder\n",
    "substep_params={\n",
    "    \"cifar10_datasets_url\": \"https://www.cs.toronto.edu/~kriz/cifar-10-python.tar.gz\"  \n",
    "}"
   ]
  },
  {
   "cell_type": "code",
   "execution_count": null,
   "id": "6f4722b6-ebf7-4b7d-bce3-7381c897f2cb",
   "metadata": {
    "tags": []
   },
   "outputs": [],
   "source": [
    "# load pipeline and step parameters - do not edit\n",
    "from sinara.substep import get_pipeline_params, get_step_params\n",
    "pipeline_params = get_pipeline_params(pprint=True)\n",
    "step_params = get_step_params(pprint=True)"
   ]
  },
  {
   "cell_type": "code",
   "execution_count": null,
   "id": "d0508bde-536b-4d9e-9826-ddd8d4dcd056",
   "metadata": {},
   "outputs": [],
   "source": [
    "# specify all notebook wide libraries imports here\n",
    "# Sinara lib imports is left in the place of their usage\n",
    "import os\n",
    "import os.path as osp\n",
    "import json"
   ]
  },
  {
   "cell_type": "code",
   "execution_count": null,
   "id": "f067c0a4-3e3e-46f9-8b49-d905d1a1bf96",
   "metadata": {
    "tags": []
   },
   "outputs": [],
   "source": [
    "# define substep interface\n",
    "from sinara.substep import NotebookSubstep, ENV_NAME, PIPELINE_NAME, ZONE_NAME, STEP_NAME, RUN_ID, ENTITY_NAME, ENTITY_PATH, SUBSTEP_NAME\n",
    "\n",
    "substep = NotebookSubstep(pipeline_params, step_params, substep_params)\n",
    "\n",
    "substep.interface(\n",
    "    tmp_entities = \n",
    "    [\n",
    "        { ENTITY_NAME: \"downloaded_archives\"}, # temporarily dowloaded zip archives\n",
    "        { ENTITY_NAME: \"raw_cifar10_datasets\"}, # extracted temporary raw files from downloaded_archives zip\n",
    "        { ENTITY_NAME: \"cifar10_datasets\"}, # extracted temporary images from raw_cifar10_datasets\n",
    "        { ENTITY_NAME: \"meta_cifar10_datasets\"} # extracted meta info of cifar10 dataset\n",
    "    ],\n",
    "\n",
    "    outputs =\n",
    "    [\n",
    "        { ENTITY_NAME: \"cifar10_datasets\"}, # images stored for using in next steps\n",
    "        { ENTITY_NAME: \"meta_cifar10_datasets\"} # meta info stored for using in next steps\n",
    "    ]\n",
    ")\n",
    "\n",
    "substep.print_interface_info()\n",
    "\n",
    "substep.exit_in_visualize_mode()"
   ]
  },
  {
   "cell_type": "code",
   "execution_count": null,
   "id": "74a4a572-4573-4ead-8912-a3560e53db86",
   "metadata": {
    "tags": []
   },
   "outputs": [],
   "source": [
    "# run spark\n",
    "from sinara.spark import SinaraSpark\n",
    "from sinara.archive import SinaraArchive\n",
    "\n",
    "spark = SinaraSpark.run_session(0)\n",
    "archive = SinaraArchive(spark)\n",
    "SinaraSpark.ui_url()"
   ]
  },
  {
   "cell_type": "markdown",
   "id": "2398c9d8-2ec6-42f6-ad0f-0a929b973062",
   "metadata": {
    "tags": []
   },
   "source": [
    "### Loading and unpacking cifar_datasets tar archive "
   ]
  },
  {
   "cell_type": "code",
   "execution_count": null,
   "id": "31c22b76-868d-46dd-9caa-aaa0aafcddcb",
   "metadata": {
    "tags": []
   },
   "outputs": [],
   "source": [
    "tmp_entities = substep.tmp_entities()\n",
    "cifar10_datasets_url = substep_params[\"cifar10_datasets_url\"]"
   ]
  },
  {
   "cell_type": "code",
   "execution_count": null,
   "id": "d8fd7dc2-f644-4235-a5ba-0c21c06ca7a8",
   "metadata": {
    "tags": []
   },
   "outputs": [],
   "source": [
    "# Download cifar_datasets\n",
    "!wget {cifar10_datasets_url} -O {osp.join(tmp_entities.downloaded_archives, osp.basename(cifar10_datasets_url))}"
   ]
  },
  {
   "cell_type": "code",
   "execution_count": null,
   "id": "e4b60225-2226-470b-b627-339a93a2b704",
   "metadata": {
    "tags": []
   },
   "outputs": [],
   "source": [
    "# unzip\n",
    "!tar -zxf {osp.join(tmp_entities.downloaded_archives, osp.basename(cifar10_datasets_url))} --directory {tmp_entities.raw_cifar10_datasets}"
   ]
  },
  {
   "cell_type": "markdown",
   "id": "1c66f7a7-6ed6-42f5-ba7b-2067fc653178",
   "metadata": {},
   "source": [
    "### Extract raw cifar10 dataset to images"
   ]
  },
  {
   "cell_type": "code",
   "execution_count": null,
   "id": "ddec1bb8-1d89-46d4-a40a-345717a63905",
   "metadata": {},
   "outputs": [],
   "source": [
    "# The cifar10 dataset is divided into 5 batches of 50,000 images and one test batch with 10,000 images\n",
    "from utils.extract_cifar10 import load_cifar_pickle, unpickle, save_cifar_image\n",
    "\n",
    "count_batch_cifar10 = 5 \n",
    "filepath_meta_cifar10 = osp.join(tmp_entities.raw_cifar10_datasets, \"cifar-10-batches-py/batches.meta\")\n",
    "filepath_test_batch_cifar10 = osp.join(tmp_entities.raw_cifar10_datasets, \"cifar-10-batches-py/test_batch\")\n",
    "\n",
    "cifar10_meta = unpickle(filepath_meta_cifar10)\n",
    "label_names = cifar10_meta[\"label_names\"]\n",
    "label_names = {label_id: label_name for label_id, label_name in enumerate(label_names)}\n",
    "\n",
    "dir_train_cifar10_dataset = osp.join(tmp_entities.cifar10_datasets, \"train\")\n",
    "dir_test_cifar10_dataset = osp.join(tmp_entities.cifar10_datasets, \"test\")    \n",
    "\n",
    "# create directory for train and test dataset\n",
    "os.makedirs(dir_train_cifar10_dataset, exist_ok=True)\n",
    "os.makedirs(dir_test_cifar10_dataset, exist_ok=True)\n",
    "for label_id in label_names.keys():\n",
    "    os.makedirs(osp.join(dir_train_cifar10_dataset, str(label_id)), exist_ok=True)\n",
    "    os.makedirs(osp.join(dir_test_cifar10_dataset, str(label_id)), exist_ok=True)\n",
    "\n",
    "# export batch to train image\n",
    "image_id = 0\n",
    "for batch_id in range(1, count_batch_cifar10+1):\n",
    "    filename_train_batch_cifar10 = f\"cifar-10-batches-py/data_batch_{batch_id}\"\n",
    "    filepath_train_batch_cifar10 = osp.join(tmp_entities.raw_cifar10_datasets, filename_train_batch_cifar10)\n",
    "    train_images, train_labels = load_cifar_pickle(filepath_train_batch_cifar10)\n",
    "    for i, label_id in enumerate(train_labels):\n",
    "        out_dir = osp.join(dir_train_cifar10_dataset, str(label_id))\n",
    "        save_cifar_image(train_images[i], os.path.join(out_dir, f\"image_{image_id}.png\")) \n",
    "        image_id += 1\n",
    "        \n",
    "# export batch to test images\n",
    "test_images, test_labels = load_cifar_pickle(filepath_test_batch_cifar10)\n",
    "for i, label_id in enumerate(test_labels):\n",
    "    out_dir = osp.join(dir_test_cifar10_dataset, str(label_id))\n",
    "    save_cifar_image(test_images[i], os.path.join(out_dir, f\"image_{i}.png\")) \n",
    "    \n",
    "# save meta info for cifar10 datasets\n",
    "with open(osp.join(tmp_entities.meta_cifar10_datasets, 'meta_cifar10_datasets.json'), 'w') as f:\n",
    "    json.dump(label_names, f)"
   ]
  },
  {
   "cell_type": "markdown",
   "id": "b7daa3e3-bf19-4ccf-bda8-75ac0e1b3701",
   "metadata": {
    "tags": []
   },
   "source": [
    "### Archiving cifar10_datasets and meta_cifar10_datasets for next step"
   ]
  },
  {
   "cell_type": "code",
   "execution_count": 61,
   "id": "e6765536-1370-476c-a2f9-db56f6140906",
   "metadata": {
    "tags": []
   },
   "outputs": [
    {
     "name": "stderr",
     "output_type": "stream",
     "text": [
      "                                                                                \r"
     ]
    }
   ],
   "source": [
    "# Save tmp_entities.cifar10_datasets and tmp_entities.meta_cifar10_datasets to outputs of step data_load\n",
    "outputs = substep.outputs()\n",
    "\n",
    "archive.pack_files_from_tmp_to_store(tmp_dir=tmp_entities.cifar10_datasets, store_path=outputs.cifar10_datasets)\n",
    "archive.pack_files_from_tmp_to_store(tmp_dir=tmp_entities.meta_cifar10_datasets, store_path=outputs.meta_cifar10_datasets)"
   ]
  },
  {
   "cell_type": "code",
   "execution_count": 62,
   "id": "7fa243b4-ec85-4950-94f5-6c08898e53a0",
   "metadata": {
    "tags": []
   },
   "outputs": [],
   "source": [
    "# Stop spark\n",
    "SinaraSpark.stop_session()"
   ]
  },
  {
   "cell_type": "code",
   "execution_count": null,
   "id": "852a2510-3219-4790-a847-f5c69869b55c",
   "metadata": {},
   "outputs": [],
   "source": []
  },
  {
   "cell_type": "code",
   "execution_count": null,
   "id": "68194f3f-8de0-4913-ab82-3b86ec2ab1ca",
   "metadata": {},
   "outputs": [],
   "source": []
  }
 ],
 "metadata": {
  "kernelspec": {
   "display_name": "cv",
   "language": "python",
   "name": "python3"
  },
  "language_info": {
   "codemirror_mode": {
    "name": "ipython",
    "version": 3
   },
   "file_extension": ".py",
   "mimetype": "text/x-python",
   "name": "python",
   "nbconvert_exporter": "python",
   "pygments_lexer": "ipython3",
   "version": "3.10.12"
  }
 },
 "nbformat": 4,
 "nbformat_minor": 5
}
